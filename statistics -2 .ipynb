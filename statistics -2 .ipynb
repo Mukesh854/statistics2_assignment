{
 "cells": [
  {
   "cell_type": "markdown",
   "id": "fe7739f4-9387-4c9b-96d8-8c42926d2226",
   "metadata": {},
   "source": [
    "#Statistics-2"
   ]
  },
  {
   "cell_type": "markdown",
   "id": "c93eb21a-eced-49fc-b324-51ef35019c3f",
   "metadata": {},
   "source": [
    "Q1. What are the three measures of central tendency?"
   ]
  },
  {
   "cell_type": "markdown",
   "id": "38b142ff-0a4a-42d2-a214-80a06f65f84a",
   "metadata": {},
   "source": [
    "mean , median , mode are the three measures of central tendency."
   ]
  },
  {
   "cell_type": "markdown",
   "id": "179d4ed0-a94f-41a7-9c17-ee08d59309d4",
   "metadata": {},
   "source": [
    "Q2. What is the difference between the mean, median, and mode? How are they used to measure the\n",
    "central tendency of a dataset?"
   ]
  },
  {
   "cell_type": "markdown",
   "id": "5e7adbe0-a5a6-4011-b69c-f760722eaf37",
   "metadata": {},
   "source": [
    "1) Mean:\n",
    "\n",
    "Definition: The mean is the sum of all values in a dataset divided by the total number of values.\n",
    "Calculation: Mean = (Sum of all values) / (Total number of values)\n",
    "Use: The mean is sensitive to all values in the dataset and provides an average value. It's commonly used when you want to understand the \"average\" value of a dataset, especially when the data is evenly distributed and doesn't have extreme outliers. However, the mean can be greatly influenced by outliers, pulling it in the direction of the outlier.\n",
    "\n",
    "2) Median:\n",
    "\n",
    "Definition: The median is the middle value in an ordered dataset. It divides the dataset into two equal halves.\n",
    "Calculation (for odd number of values): Median = Middle value\n",
    "Calculation (for even number of values): Median = (Middle value + Next middle value) / 2\n",
    "Use: The median is robust to outliers and extreme values. It's a good measure to use when you want to find the \"typical\" value without being heavily influenced by outliers. For example, if you have a dataset with a few very high or very low values, the median can give you a better representation of the central value.\n",
    "\n",
    "3) Mode:\n",
    "\n",
    "Definition: The mode is the value that appears most frequently in a dataset.\n",
    "Use: The mode is useful when you want to identify the most common value in a dataset. It can be helpful in understanding the distribution of categorical data or discrete values. Unlike the mean and median, the mode is not affected by the actual values in the dataset; it only depends on their frequency of occurrence."
   ]
  },
  {
   "cell_type": "markdown",
   "id": "19623eab-b3cd-47d5-ae7f-8262ed24dcd0",
   "metadata": {},
   "source": [
    "Q3. Measure the three measures of central tendency for the given height data:\n",
    "[178,177,176,177,178.2,178,175,179,180,175,178.9,176.2,177,172.5,178,176.5]"
   ]
  },
  {
   "cell_type": "code",
   "execution_count": 8,
   "id": "bbc2db89-e584-458e-9073-83388f4b79af",
   "metadata": {},
   "outputs": [
    {
     "name": "stdout",
     "output_type": "stream",
     "text": [
      "\n",
      "mean of this data is : 177.01875\n",
      "\n",
      "median of this data is :  177.0\n",
      "\n",
      "mode of this data is :  ModeResult(mode=array([177.]), count=array([3]))\n"
     ]
    },
    {
     "name": "stderr",
     "output_type": "stream",
     "text": [
      "/tmp/ipykernel_120/3978720604.py:15: FutureWarning: Unlike other reduction functions (e.g. `skew`, `kurtosis`), the default behavior of `mode` typically preserves the axis it acts along. In SciPy 1.11.0, this behavior will change: the default value of `keepdims` will become False, the `axis` over which the statistic is taken will be eliminated, and the value None will no longer be accepted. Set `keepdims` to True or False to avoid this warning.\n",
      "  mode=stats.mode(data)\n"
     ]
    }
   ],
   "source": [
    "import numpy as np\n",
    "from scipy import stats\n",
    "\n",
    "data=[178,177,176,177,178.2,178,175,179,180,175,178.9,176.2,177,172.5,178,176.5]\n",
    "\n",
    "#mean of this data \n",
    "mean=np.mean(data)\n",
    "\n",
    "\n",
    "# median of this data \n",
    "median=np.median(data)\n",
    "\n",
    "\n",
    "#mode of this data\n",
    "mode=stats.mode(data)\n",
    "\n",
    "print(\"\\nmean of this data is :\",mean)\n",
    "print(\"\\nmedian of this data is : \",median)\n",
    "print(\"\\nmode of this data is : \",mode)"
   ]
  },
  {
   "cell_type": "markdown",
   "id": "5e8dbbfd-df7a-4c8b-b24c-513655c4453e",
   "metadata": {},
   "source": [
    "Q4. Find the standard deviation for the given data:\n",
    "[178,177,176,177,178.2,178,175,179,180,175,178.9,176.2,177,172.5,178,176.5]"
   ]
  },
  {
   "cell_type": "code",
   "execution_count": 9,
   "id": "93f8e2a4-9b4f-4db5-b284-699fb7026f8b",
   "metadata": {},
   "outputs": [
    {
     "data": {
      "text/plain": [
       "1.7885814036548633"
      ]
     },
     "execution_count": 9,
     "metadata": {},
     "output_type": "execute_result"
    }
   ],
   "source": [
    "data_1=[178,177,176,177,178.2,178,175,179,180,175,178.9,176.2,177,172.5,178,176.5]\n",
    "standard_deviation=np.std(data_1)\n",
    "standard_deviation"
   ]
  },
  {
   "cell_type": "markdown",
   "id": "f40f2d55-bce6-483f-91be-0b93b03eb7d0",
   "metadata": {},
   "source": [
    "Q5. How are measures of dispersion such as range, variance, and standard deviation used to describe\n",
    "the spread of a dataset? Provide an example."
   ]
  },
  {
   "cell_type": "markdown",
   "id": "2c43318b-ad16-4def-9861-b7ad94ff3a21",
   "metadata": {},
   "source": [
    "Measures of dispersion, such as range, variance, and standard deviation, are used to quantify the spread or variability of data points within a dataset.\n",
    "\n",
    "Range:\n",
    "\n",
    "Definition: The range is the difference between the maximum and minimum values in a dataset.\n",
    "Calculation: Range = Maximum value - Minimum value\n",
    "Use: The range gives a basic idea of how spread out the data is, but it's sensitive to outliers and doesn't provide information about the distribution of values between the maximum and minimum.\n",
    "\n",
    "\n",
    "Measures of dispersion, such as range, variance, and standard deviation, are used to quantify the spread or variability of data points within a dataset. They provide insights into how closely or widely the values are distributed around the central tendency (mean, median, or mode). Here's how they work and an example to illustrate:\n",
    "\n",
    "Range:\n",
    "\n",
    "Definition: The range is the difference between the maximum and minimum values in a dataset.\n",
    "Calculation: Range = Maximum value - Minimum value\n",
    "Use: The range gives a basic idea of how spread out the data is, but it's sensitive to outliers and doesn't provide information about the distribution of values between the maximum and minimum.\n",
    "\n",
    "Variance:\n",
    "\n",
    "Definition: Variance measures the average of the squared differences between each data point and the mean of the dataset.\n",
    "Calculation: Variance = (Sum of squared differences from the mean) / (Total number of values)\n",
    "Use: Variance provides a more comprehensive measure of dispersion by considering how each data point deviates from the mean. However, it's measured in squared units, which might not be intuitive to interpret.\n",
    "\n",
    "Standard Deviation:\n",
    "\n",
    "Definition: Standard deviation is the square root of the variance. It measures the average deviation of data points from the mean.\n",
    "Calculation: Standard Deviation = √Variance\n",
    "Use: Standard deviation is the most commonly used measure of dispersion. It's in the same units as the original data and gives a sense of the typical amount of deviation from the mean. Smaller standard deviation implies less variability, while larger standard deviation indicates more spread.\n",
    "\n",
    "Example:\n",
    "Let's say we have two datasets representing the test scores of two different classes:\n",
    "\n",
    "Class A: 85, 90, 88, 92, 87\n",
    "Class B: 70, 65, 80, 75, 85\n",
    "\n",
    "Range:\n",
    "\n",
    "Class A Range: 92 - 85 = 7\n",
    "Class B Range: 85 - 65 = 20\n",
    "Variance:\n",
    "\n",
    "Class A Variance: (6^2 + 1^2 + 3^2 + 7^2 + 2^2) / 5 = 12.8\n",
    "Class B Variance: (15^2 + 10^2 + 5^2 + 10^2 + 0^2) / 5 = 66\n",
    "Standard Deviation:\n",
    "\n",
    "Class A Standard Deviation: √12.8 ≈ 3.58\n",
    "Class B Standard Deviation: √66 ≈ 8.12\n",
    "In this example, Class A has a smaller standard deviation, indicating that the test scores are relatively close to the mean, while Class B has a larger standard deviation, indicating more variability in scores.\n",
    "\n",
    "These measures of dispersion help provide a more complete understanding of how data points are spread out within a dataset and are essential for assessing the reliability and variability of the data.\n",
    "\n",
    "\n",
    "\n",
    "\n"
   ]
  },
  {
   "cell_type": "markdown",
   "id": "45e718d0-de24-4b7b-92a0-79fbb6a8458a",
   "metadata": {},
   "source": [
    "Q6. What is a Venn diagram?"
   ]
  },
  {
   "cell_type": "markdown",
   "id": "f1bca024-6466-49f2-8a69-b20b54f320b8",
   "metadata": {},
   "source": [
    "A Venn diagram is a graphical representation used to illustrate the relationships and commonalities between different sets or groups of items."
   ]
  },
  {
   "cell_type": "markdown",
   "id": "85af6ae9-3183-4282-88bc-14368793060a",
   "metadata": {},
   "source": [
    "Q7. For the two given sets A = (2,3,4,5,6,7) & B = (0,2,6,8,10).(i) A B\n",
    "(ii) A ⋃ B"
   ]
  },
  {
   "cell_type": "markdown",
   "id": "25b71d36-ace5-4094-899e-2c751772647d",
   "metadata": {},
   "source": [
    "So in this question we have two sets A and B.And we have to find Intersection and Union of this sets.\n",
    "\n",
    "1) Intersection of A and B is\n",
    "\n",
    "A=(2,3,4,5,6,7)\n",
    "B=(0,2,6,8,10)\n",
    "\n",
    "Answer of this is (2,6)\n",
    "\n",
    "2) Union of A and B is\n",
    "\n",
    "A=(2,3,4,5,6,7)\n",
    "B=(0,2,6,8,10)\n",
    "\n",
    "Answer of A U B is (0,2,3,4,5,6,7,)"
   ]
  },
  {
   "cell_type": "markdown",
   "id": "334fc5a9-b41c-4ed2-b88f-943d48485680",
   "metadata": {},
   "source": [
    "Q8. What do you understand about skewness in data?"
   ]
  },
  {
   "cell_type": "markdown",
   "id": "4c0f054d-bc64-416a-b867-fef0c6190933",
   "metadata": {},
   "source": [
    "Skewness in data refers to the asymmetry or lack of symmetry in the distribution of values within a dataset. It's a statistical measure that indicates whether the data distribution is skewed to the left (negatively skewed), skewed to the right (positively skewed), or roughly symmetric.\n",
    "\n",
    "There are three main types of skewness:\n",
    "\n",
    "Negative Skewness (Left Skewness):\n",
    "In a negatively skewed distribution, the tail on the left side of the distribution is longer or more extended than the tail on the right side. This means that the majority of the data points are concentrated on the right side of the distribution, with a few lower values that stretch the distribution towards the left.\n",
    "\n",
    "Characteristics of a negatively skewed distribution:\n",
    "\n",
    "Mean < Median < Mode\n",
    "The tail points toward the lower values.\n",
    "Positive Skewness (Right Skewness):\n",
    "In a positively skewed distribution, the tail on the right side of the distribution is longer or more extended than the tail on the left side. This indicates that most data points are clustered on the left side of the distribution, while a few higher values pull the distribution towards the right.\n",
    "\n",
    "Characteristics of a positively skewed distribution:\n",
    "\n",
    "Mean > Median > Mode\n",
    "The tail points toward the higher values.\n",
    "Symmetric Distribution:\n",
    "In a symmetric distribution, the data is evenly distributed around the central value (mean, median, or mode), resulting in a balanced distribution without any pronounced skewness to either side."
   ]
  },
  {
   "cell_type": "markdown",
   "id": "5390aadb-4ff5-4bc8-bb26-438cbf5adbf3",
   "metadata": {},
   "source": [
    "The relationship between the median and the mean in a right-skewed distribution is as follows:\n",
    "\n",
    "Median: The median is the middle value in a dataset when it's arranged in ascending or descending order. In a right-skewed distribution, the few larger values on the right side of the distribution will tend to pull the median to the right.\n",
    "\n",
    "Mean: The mean is sensitive to the values themselves. When there are larger values in the right tail of the distribution, the mean can be \"pulled\" or \"dragged\" towards the right by these larger values"
   ]
  },
  {
   "cell_type": "markdown",
   "id": "b5751094-c523-47a7-bfd3-829d7c502bd7",
   "metadata": {},
   "source": [
    "Q10. Explain the difference between covariance and correlation. How are these measures used in\n",
    "statistical analysis?\n"
   ]
  },
  {
   "cell_type": "markdown",
   "id": "24ef89ff-ab0e-4734-82cc-bcf9a6373122",
   "metadata": {},
   "source": [
    "Covariance:\n",
    "Covariance measures how two variables change together. It indicates whether an increase in one variable is associated with an increase or decrease in the other variable. Covariance can be positive, indicating a positive relationship where both variables tend to increase or decrease together, or negative, indicating an inverse relationship where one variable increases while the other decreases.\n",
    "\n",
    "The formula for the covariance between two variables X and Y is:\n",
    "\n",
    "Cov(X, Y) = Σ((Xi - X̄) * (Yi - Ȳ)) / (n - 1)\n",
    "\n",
    "Where:\n",
    "\n",
    "Xi and Yi are individual data points\n",
    "X̄ and Ȳ are the means of variables X and Y, respectively\n",
    "n is the number of data points\n",
    "Correlation:\n",
    "Correlation measures the strength and direction of the linear relationship between two variables. Unlike covariance, correlation scales the covariance by the standard deviations of the two variables, resulting in a value between -1 and 1. A correlation of 1 indicates a perfect positive linear relationship, -1 indicates a perfect negative linear relationship, and 0 indicates no linear relationship.\n",
    "\n",
    "The formula for the correlation coefficient (Pearson correlation) between two variables X and Y is:\n",
    "\n",
    "Correlation(X, Y) = Cov(X, Y) / (σX * σY)\n",
    "\n",
    "Where:\n",
    "\n",
    "Cov(X, Y) is the covariance between X and Y\n",
    "σX and σY are the standard deviations of variables X and Y, respectively\n",
    "\n",
    "Usage:\n",
    "\n",
    "Both covariance and correlation are used in statistical analysis to understand relationships between variables. They help identify whether and how two variables change together. Correlation is more commonly used because of its standardized scale and ease of interpretation. In regression analysis and portfolio management, covariance is used to assess how changes in one variable affect another, while correlation helps identify the strength of relationships. Both measures are valuable tools for exploratory data analysis, model building, and decision-making."
   ]
  },
  {
   "cell_type": "markdown",
   "id": "bb9f0e73-3908-4b7c-a057-89cf7ccc597a",
   "metadata": {},
   "source": [
    "Q11. What is the formula for calculating the sample mean? Provide an example calculation for a\n",
    "dataset."
   ]
  },
  {
   "cell_type": "markdown",
   "id": "76bb47f7-2ea4-4494-b129-cf5739a799ad",
   "metadata": {},
   "source": [
    "The formula for calculating the sample mean is:\n",
    "\n",
    "sample mean=(sum of all data points)/(number of data points)\n",
    "\n",
    "An example for this.\n",
    "\n",
    "Suppose we have an dataset of marks  of student obtain in a exam.\n",
    "\n",
    "45,67,32,90,100,56,76,10,47,89\n",
    "\n",
    "sum of all data points=45+67+32+90+100+56+76+10+47+89\n",
    "number of data points=10\n",
    "\n",
    "Sample mean=612/2\n",
    "Sample mean=61.2\n",
    "\n",
    "Here is the sample mean of the this data 61.2 "
   ]
  },
  {
   "cell_type": "markdown",
   "id": "0d848a23-d7b2-4615-b31e-4d267eaa0428",
   "metadata": {},
   "source": [
    "Q12. For a normal distribution data what is the relationship between its measure of central tendency?"
   ]
  },
  {
   "cell_type": "markdown",
   "id": "a58ad5ac-1cde-41ab-8b76-1a114267dbe6",
   "metadata": {},
   "source": [
    "In normal distribution, the measures of central tendency mean , median , mode will be equal to each other.\n",
    "\n",
    "For a perfectly symmetric normal distribution:\n",
    "    \n",
    "mean=median=mode"
   ]
  },
  {
   "cell_type": "markdown",
   "id": "5e088aa0-dd83-476e-b1ba-519859812658",
   "metadata": {},
   "source": [
    "Q13. How is covariance different from correlation?"
   ]
  },
  {
   "cell_type": "markdown",
   "id": "eaf6aee7-f45d-4721-a515-30cb837673eb",
   "metadata": {},
   "source": [
    "Formula of covariance\n",
    "COV(x,y)=Σ((Xi - X̄) * (Yi - Ȳ)) / (n - 1)\n",
    "\n",
    "Formula of Correlation\n",
    "correlation(x,y)=Cov(X, Y) / (σX * σY)\n",
    "\n",
    "Differences:\n",
    "\n",
    "Scale: Covariance doesn't have a specific range, while correlation is scaled between -1 and 1.\n",
    "\n",
    "Interpretation: Covariance indicates direction but doesn't provide a clear measure of strength or relationship type. Correlation provides both strength and direction.\n",
    "\n",
    "Unit Independence: Correlation is unitless and unaffected by changes in units of measurement. Covariance is influenced by the scales of the variables.\n",
    "\n",
    "Standardization: Correlation standardizes the covariance, making it more suitable for comparing relationships across different datasets.\n"
   ]
  },
  {
   "cell_type": "markdown",
   "id": "60aeaeac-c323-46d9-aba3-aa278be9bb3c",
   "metadata": {},
   "source": [
    "Q14. How do outliers affect measures of central tendency and dispersion? Provide an example."
   ]
  },
  {
   "cell_type": "markdown",
   "id": "c6a8e4f1-4baa-4f35-b47b-456b201867de",
   "metadata": {},
   "source": [
    "Outliers may affect  measures of central tendency and dataset very badly.\n",
    "Let's understand this with an example.\n",
    "\n",
    "Let's suppose we have an dataset which look like this.\n",
    "1,2,4,6,7,3,8,12,2\n",
    "\n",
    "let's find the  mean of this data\n",
    "\n",
    "mean=(sum of all elements)/(numbers of elements)\n",
    "mean=1+2+4+6+7+3+8+12+2/9\n",
    "mean=45/9\n",
    "mean=5\n",
    "\n",
    "So the mean of this is 5.\n",
    "\n",
    "It' a normal data,let's take a data where outliers is present \n",
    "\n",
    "data with outlier\n",
    "1,2,4,6,7,3,8,12,2,100\n",
    "\n",
    "find the of this data\n",
    "\n",
    "1+2+4+6+7+3+8+12+2+100/10\n",
    "145/10\n",
    "14.5\n",
    "\n",
    "as you can see the difference \n",
    "mean when outlier is not present is 5\n",
    "\n",
    "mean when outlier is present is 14.5\n",
    "\n",
    "you can clearly see the differenc \n",
    "\n",
    "14.5-5\n",
    "9.5\n",
    "\n",
    "9.5 is a very big difference in any dataset.\n",
    "\n",
    "So to tackle this outlier we will use median.\n",
    "\n",
    "Median is use to find the central tendency when outlier is present\n",
    "\n",
    "Let's use median here.\n",
    "\n",
    "the count is even , so we will take two number from the center and divide them by 2.\n",
    "\n",
    "7+3/2\n",
    "5\n",
    "\n",
    "The median is 5.\n",
    "\n",
    "I hope you understand this topic this was from my side see you next time.\n",
    "\n",
    "\n",
    "\n",
    "\n",
    "\n",
    "\n",
    "\n",
    "\n",
    "\n",
    "\n",
    "\n",
    "\n",
    "\n"
   ]
  },
  {
   "cell_type": "code",
   "execution_count": null,
   "id": "74b922ef-1b32-4c29-96a7-2c8c55d81cc6",
   "metadata": {},
   "outputs": [],
   "source": []
  }
 ],
 "metadata": {
  "kernelspec": {
   "display_name": "Python 3 (ipykernel)",
   "language": "python",
   "name": "python3"
  },
  "language_info": {
   "codemirror_mode": {
    "name": "ipython",
    "version": 3
   },
   "file_extension": ".py",
   "mimetype": "text/x-python",
   "name": "python",
   "nbconvert_exporter": "python",
   "pygments_lexer": "ipython3",
   "version": "3.10.8"
  }
 },
 "nbformat": 4,
 "nbformat_minor": 5
}
